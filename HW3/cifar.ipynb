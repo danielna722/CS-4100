{
 "cells": [
  {
   "cell_type": "code",
   "execution_count": 1,
   "metadata": {},
   "outputs": [],
   "source": [
    "import numpy as np\n",
    "import torch\n",
    "from torch import nn\n",
    "from torch.utils.data import DataLoader\n",
    "from torchvision import datasets\n",
    "from torchvision.transforms import ToTensor"
   ]
  },
  {
   "cell_type": "code",
   "execution_count": 2,
   "metadata": {},
   "outputs": [
    {
     "name": "stdout",
     "output_type": "stream",
     "text": [
      "Files already downloaded and verified\n",
      "Files already downloaded and verified\n"
     ]
    }
   ],
   "source": [
    "training_data = datasets.CIFAR10(\n",
    "    root=\"data\",\n",
    "    train=True,\n",
    "    download=True,\n",
    "    transform=ToTensor(),\n",
    ")\n",
    "\n",
    "test_data = datasets.CIFAR10(\n",
    "    root=\"data\",\n",
    "    train=False,\n",
    "    download=True,\n",
    "    transform=ToTensor(),\n",
    ")"
   ]
  },
  {
   "cell_type": "code",
   "execution_count": null,
   "metadata": {},
   "outputs": [
    {
     "name": "stdout",
     "output_type": "stream",
     "text": [
      "Shape of X [N, C, H, W]: torch.Size([50, 3, 32, 32])\n",
      "Shape of y: torch.Size([50]) torch.int64\n",
      "tensor([[[0.6196, 0.6235, 0.6471,  ..., 0.5373, 0.4941, 0.4549],\n",
      "         [0.5961, 0.5922, 0.6235,  ..., 0.5333, 0.4902, 0.4667],\n",
      "         [0.5922, 0.5922, 0.6196,  ..., 0.5451, 0.5098, 0.4706],\n",
      "         ...,\n",
      "         [0.2667, 0.1647, 0.1216,  ..., 0.1490, 0.0510, 0.1569],\n",
      "         [0.2392, 0.1922, 0.1373,  ..., 0.1020, 0.1137, 0.0784],\n",
      "         [0.2118, 0.2196, 0.1765,  ..., 0.0941, 0.1333, 0.0824]],\n",
      "\n",
      "        [[0.4392, 0.4353, 0.4549,  ..., 0.3725, 0.3569, 0.3333],\n",
      "         [0.4392, 0.4314, 0.4471,  ..., 0.3725, 0.3569, 0.3451],\n",
      "         [0.4314, 0.4275, 0.4353,  ..., 0.3843, 0.3725, 0.3490],\n",
      "         ...,\n",
      "         [0.4863, 0.3922, 0.3451,  ..., 0.3804, 0.2510, 0.3333],\n",
      "         [0.4549, 0.4000, 0.3333,  ..., 0.3216, 0.3216, 0.2510],\n",
      "         [0.4196, 0.4118, 0.3490,  ..., 0.3020, 0.3294, 0.2627]],\n",
      "\n",
      "        [[0.1922, 0.1843, 0.2000,  ..., 0.1412, 0.1412, 0.1294],\n",
      "         [0.2000, 0.1569, 0.1765,  ..., 0.1216, 0.1255, 0.1333],\n",
      "         [0.1843, 0.1294, 0.1412,  ..., 0.1333, 0.1333, 0.1294],\n",
      "         ...,\n",
      "         [0.6941, 0.5804, 0.5373,  ..., 0.5725, 0.4235, 0.4980],\n",
      "         [0.6588, 0.5804, 0.5176,  ..., 0.5098, 0.4941, 0.4196],\n",
      "         [0.6275, 0.5843, 0.5176,  ..., 0.4863, 0.5059, 0.4314]]])\n"
     ]
    }
   ],
   "source": [
    "batch_size = 64\n",
    "\n",
    "train_dataloader = DataLoader(training_data, batch_size=batch_size)\n",
    "test_dataloader = DataLoader(test_data, batch_size=batch_size)\n",
    "\n",
    "for x, y in test_dataloader:\n",
    "    print(f\"Shape of X [N, C, H, W]: {x.shape}\")\n",
    "    print(f\"Shape of y: {y.shape} {y.dtype}\")\n",
    "    print(x[0])\n",
    "    break\n"
   ]
  },
  {
   "cell_type": "code",
   "execution_count": 4,
   "metadata": {},
   "outputs": [
    {
     "name": "stdout",
     "output_type": "stream",
     "text": [
      "Using cpu device\n"
     ]
    }
   ],
   "source": [
    "device = (\n",
    "    \"cuda\"\n",
    "    if torch.cuda.is_available()\n",
    "    else \"mps\"\n",
    "    if torch.backends.mps.is_available()\n",
    "    else \"cpu\"\n",
    ")\n",
    "print(f\"Using {device} device\")"
   ]
  },
  {
   "cell_type": "markdown",
   "metadata": {},
   "source": [
    "This is the NN that was given to us in Lab 3. I will be loosely basing my following models off this:"
   ]
  },
  {
   "cell_type": "code",
   "execution_count": null,
   "metadata": {},
   "outputs": [
    {
     "name": "stdout",
     "output_type": "stream",
     "text": [
      "NeuralNetwork(\n",
      "  (flatten): Flatten(start_dim=1, end_dim=-1)\n",
      "  (linear_relu_stack): Sequential(\n",
      "    (0): Linear(in_features=784, out_features=512, bias=True)\n",
      "    (1): ReLU()\n",
      "    (2): Linear(in_features=512, out_features=256, bias=True)\n",
      "    (3): ReLU()\n",
      "    (4): Linear(in_features=256, out_features=10, bias=True)\n",
      "  )\n",
      ")\n"
     ]
    }
   ],
   "source": [
    "# Define model\n",
    "class NeuralNetwork(nn.Module):\n",
    "    def __init__(self):\n",
    "        super().__init__()\n",
    "        self.flatten = nn.Flatten()\n",
    "        self.linear_relu_stack = nn.Sequential(\n",
    "            nn.Linear(28 * 28, 512),\n",
    "            nn.ReLU(),\n",
    "            nn.Linear(512, 256),\n",
    "            nn.ReLU(),\n",
    "            nn.Linear(256, 10)\n",
    "        )\n",
    "\n",
    "    def forward(self, x):\n",
    "        x = self.flatten(x)\n",
    "        logits = self.linear_relu_stack(x)\n",
    "        return logits\n",
    "\n",
    "model = NeuralNetwork().to(device)\n",
    "print(model)"
   ]
  },
  {
   "cell_type": "code",
   "execution_count": 30,
   "metadata": {},
   "outputs": [
    {
     "name": "stdout",
     "output_type": "stream",
     "text": [
      "FullyConnectedNN(\n",
      "  (flatten): Flatten(start_dim=1, end_dim=-1)\n",
      "  (fc_layers): Sequential(\n",
      "    (0): Linear(in_features=3072, out_features=512, bias=True)\n",
      "    (1): ReLU()\n",
      "    (2): Linear(in_features=512, out_features=256, bias=True)\n",
      "    (3): ReLU()\n",
      "    (4): Linear(in_features=256, out_features=10, bias=True)\n",
      "    (5): Softmax(dim=1)\n",
      "  )\n",
      ")\n"
     ]
    }
   ],
   "source": [
    "class FullyConnectedNN(nn.Module):\n",
    "    def __init__(self):\n",
    "        super().__init__()\n",
    "        self.flatten = nn.Flatten()\n",
    "        self.fc_layers = nn.Sequential(\n",
    "            nn.Linear(32 * 32 * 3, 512),\n",
    "            nn.ReLU(),\n",
    "            nn.Linear(512, 256),\n",
    "            nn.ReLU(),\n",
    "            nn.Linear(256, 10),\n",
    "            nn.Softmax(dim=1)\n",
    "        )\n",
    "\n",
    "    def forward(self, x):\n",
    "        x = self.flatten(x)\n",
    "        return self.fc_layers(x)\n",
    "    \n",
    "fcnn = FullyConnectedNN().to(device)\n",
    "print(fcnn)\n"
   ]
  },
  {
   "cell_type": "code",
   "execution_count": 34,
   "metadata": {},
   "outputs": [
    {
     "name": "stdout",
     "output_type": "stream",
     "text": [
      "CNN(\n",
      "  (conv_layers): Sequential(\n",
      "    (0): Conv2d(3, 16, kernel_size=(3, 3), stride=(1, 1), padding=(1, 1))\n",
      "    (1): ReLU()\n",
      "    (2): Conv2d(16, 32, kernel_size=(3, 3), stride=(1, 1), padding=(1, 1))\n",
      "    (3): ReLU()\n",
      "    (4): Conv2d(32, 64, kernel_size=(3, 3), stride=(1, 1), padding=(1, 1))\n",
      "    (5): ReLU()\n",
      "    (6): Flatten(start_dim=1, end_dim=-1)\n",
      "    (7): Linear(in_features=65536, out_features=10, bias=True)\n",
      "    (8): Softmax(dim=1)\n",
      "  )\n",
      ")\n"
     ]
    }
   ],
   "source": [
    "class CNN(nn.Module):\n",
    "    def __init__(self):\n",
    "        super(CNN, self).__init__()\n",
    "        self.conv_layers = nn.Sequential(\n",
    "            nn.Conv2d(3, 16, kernel_size=3, padding=1),\n",
    "            nn.ReLU(),\n",
    "            nn.Conv2d(16, 32, kernel_size=3, padding=1),\n",
    "            nn.ReLU(),\n",
    "            nn.Conv2d(32, 64, kernel_size=3, padding=1),\n",
    "            nn.ReLU(),\n",
    "            nn.Flatten(),\n",
    "            nn.Linear(65536, 10),\n",
    "            nn.Softmax(dim=1)\n",
    "        )\n",
    "\n",
    "    def forward(self, x):\n",
    "        temp = self.conv_layers(x)\n",
    "        return temp\n",
    "    \n",
    "\n",
    "cnn = CNN().to(device)\n",
    "print(cnn)\n",
    "\n"
   ]
  },
  {
   "cell_type": "markdown",
   "metadata": {},
   "source": [
    "Need a loss function and an optimizer for FullyConnectedNN and CNN:"
   ]
  },
  {
   "cell_type": "code",
   "execution_count": 35,
   "metadata": {},
   "outputs": [],
   "source": [
    "loss_fn = nn.CrossEntropyLoss()\n",
    "fcnn_optimizer = torch.optim.SGD(fcnn.parameters(), lr=1e-3)\n",
    "cnn_optimizer = torch.optim.SGD(cnn.parameters(), lr=1e-3)"
   ]
  },
  {
   "cell_type": "markdown",
   "metadata": {},
   "source": [
    "I tweaked the train function from the lab because I found it easier to just make a for loop inside of the train function rather than calling it repeatedly. You can just pass in the number of epochs into the function."
   ]
  },
  {
   "cell_type": "code",
   "execution_count": 36,
   "metadata": {},
   "outputs": [],
   "source": [
    "def train(model, train_loader, loss_fn, optimizer, max_epochs=20):\n",
    "    model.train()\n",
    "    losses = []\n",
    "    for epoch in range(max_epochs):\n",
    "        epoch_loss = 0\n",
    "        for batch, (X, y) in enumerate(train_loader):\n",
    "            X, y = X.to(device), y.to(device)\n",
    "\n",
    "            # Compute prediction error\n",
    "            pred = model(X)\n",
    "            loss = loss_fn(pred, y)\n",
    "\n",
    "            # Backpropagation\n",
    "            loss.backward()\n",
    "            optimizer.step()\n",
    "            optimizer.zero_grad()\n",
    "\n",
    "            epoch_loss += loss.item()\n",
    "\n",
    "        avg_loss = epoch_loss / len(train_loader)\n",
    "        losses.append(avg_loss)\n",
    "        print(f\"Epoch {epoch + 1}, Loss: {avg_loss:.4f}\")\n",
    "\n",
    "        # Early stopping\n",
    "        if epoch >= 3 and losses[-1] > losses[-2]:\n",
    "            print(\"Early stopping due to loss increase.\")\n",
    "            break\n",
    "\n",
    "    return losses"
   ]
  },
  {
   "cell_type": "code",
   "execution_count": 37,
   "metadata": {},
   "outputs": [],
   "source": [
    "def test(dataloader, model, loss_fn):\n",
    "    size = len(dataloader.dataset)\n",
    "    num_batches = len(dataloader)\n",
    "    model.eval()\n",
    "    test_loss, correct = 0, 0\n",
    "    with torch.no_grad():\n",
    "        for X, y in dataloader:\n",
    "            X, y = X.to(device), y.to(device)\n",
    "            pred = model(X)\n",
    "            test_loss += loss_fn(pred, y).item()\n",
    "            correct += (pred.argmax(1) == y).sum().item()\n",
    "    accuracy = correct / size\n",
    "    print(accuracy)"
   ]
  },
  {
   "cell_type": "code",
   "execution_count": 38,
   "metadata": {},
   "outputs": [
    {
     "name": "stdout",
     "output_type": "stream",
     "text": [
      "Training Fully Connected Neural Network\n",
      "Epoch 1, Loss: 2.3021\n",
      "Epoch 2, Loss: 2.3015\n",
      "Epoch 3, Loss: 2.3010\n",
      "Epoch 4, Loss: 2.3004\n",
      "Epoch 5, Loss: 2.2998\n",
      "Epoch 6, Loss: 2.2991\n",
      "Epoch 7, Loss: 2.2984\n",
      "Epoch 8, Loss: 2.2976\n",
      "Epoch 9, Loss: 2.2967\n",
      "Epoch 10, Loss: 2.2957\n",
      "Epoch 11, Loss: 2.2945\n",
      "Epoch 12, Loss: 2.2932\n",
      "Epoch 13, Loss: 2.2917\n",
      "Epoch 14, Loss: 2.2900\n",
      "Epoch 15, Loss: 2.2882\n",
      "Epoch 16, Loss: 2.2863\n",
      "Epoch 17, Loss: 2.2843\n",
      "Epoch 18, Loss: 2.2821\n",
      "Epoch 19, Loss: 2.2798\n",
      "Epoch 20, Loss: 2.2774\n",
      "Training Convolutional Neural Network\n",
      "Epoch 1, Loss: 2.3024\n",
      "Epoch 2, Loss: 2.3020\n",
      "Epoch 3, Loss: 2.3015\n",
      "Epoch 4, Loss: 2.3007\n",
      "Epoch 5, Loss: 2.2994\n",
      "Epoch 6, Loss: 2.2969\n",
      "Epoch 7, Loss: 2.2917\n",
      "Epoch 8, Loss: 2.2824\n",
      "Epoch 9, Loss: 2.2675\n",
      "Epoch 10, Loss: 2.2458\n",
      "Epoch 11, Loss: 2.2196\n",
      "Epoch 12, Loss: 2.2017\n",
      "Epoch 13, Loss: 2.1908\n",
      "Epoch 14, Loss: 2.1820\n",
      "Epoch 15, Loss: 2.1694\n",
      "Epoch 16, Loss: 2.1519\n",
      "Epoch 17, Loss: 2.1391\n",
      "Epoch 18, Loss: 2.1302\n",
      "Epoch 19, Loss: 2.1234\n",
      "Epoch 20, Loss: 2.1180\n"
     ]
    }
   ],
   "source": [
    "print(\"Training Fully Connected Neural Network\")\n",
    "fcnn_losses = train(fcnn, train_dataloader, loss_fn, fcnn_optimizer)\n",
    "\n",
    "print(\"Training Convolutional Neural Network\")\n",
    "cnn_losses = train(cnn, train_dataloader, loss_fn, cnn_optimizer)"
   ]
  },
  {
   "cell_type": "code",
   "execution_count": 39,
   "metadata": {},
   "outputs": [
    {
     "data": {
      "image/png": "[encoded data removed]",
      "text/plain": [
       "<Figure size 640x480 with 1 Axes>"
      ]
     },
     "metadata": {},
     "output_type": "display_data"
    }
   ],
   "source": [
    "import matplotlib.pyplot as plt\n",
    "\n",
    "plt.figure()\n",
    "plt.plot(range(1, len(fcnn_losses) + 1), fcnn_losses, label=\"FCNN Loss\")\n",
    "plt.plot(range(1, len(cnn_losses) + 1), cnn_losses, label=\"CNN Loss\")\n",
    "plt.xlabel(\"Epochs\")\n",
    "plt.ylabel(\"Loss\")\n",
    "plt.legend()\n",
    "plt.title(\"Loss Curves\")\n",
    "plt.show()"
   ]
  },
  {
   "cell_type": "code",
   "execution_count": 40,
   "metadata": {},
   "outputs": [
    {
     "name": "stdout",
     "output_type": "stream",
     "text": [
      "Testing Fully Connected Neural Network Accuracy\n",
      "0.1384\n",
      "Testing Convolutional Neural Network Accuracy\n",
      "0.3429\n"
     ]
    }
   ],
   "source": [
    "print(\"Testing Fully Connected Neural Network Accuracy\")\n",
    "fcnn_accuracy = test(test_dataloader, fcnn, loss_fn)\n",
    "\n",
    "print(\"Testing Convolutional Neural Network Accuracy\")\n",
    "cnn_accuracy = test(test_dataloader, cnn, loss_fn)"
   ]
  },
  {
   "cell_type": "markdown",
   "metadata": {},
   "source": [
    "Here is an example of the Fully Connected NN classifying an image with the wrong label:"
   ]
  },
  {
   "cell_type": "code",
   "execution_count": null,
   "metadata": {},
   "outputs": [
    {
     "name": "stdout",
     "output_type": "stream",
     "text": [
      "['airplane', 'automobile', 'bird', 'cat', 'deer', 'dog', 'frog', 'horse', 'ship', 'truck']\n"
     ]
    },
    {
     "data": {
      "image/png": "[encoded data removed]",
      "text/plain": [
       "<Figure size 640x480 with 1 Axes>"
      ]
     },
     "metadata": {},
     "output_type": "display_data"
    },
    {
     "name": "stdout",
     "output_type": "stream",
     "text": [
      "Predictions:  airplane\n",
      "Actual:  cat\n"
     ]
    }
   ],
   "source": [
    "from torch import permute\n",
    "import numpy\n",
    "\n",
    "\n",
    "classes = datasets.CIFAR10(root=\"data\", download=False).classes\n",
    "\n",
    "print(classes)\n",
    "\n",
    "x, y = test_data[0][0], test_data[0][1]\n",
    "\n",
    "x = x.permute(1, 2, 0).numpy()\n",
    "\n",
    "plt.imshow(x)\n",
    "plt.title(f\"Correct Label: {classes[test_data[0][1]]}\")\n",
    "plt.axis(\"off\")\n",
    "plt.show()\n",
    "\n",
    "x = torch.from_numpy(x)\n",
    "x = x.unsqueeze(0)\n",
    "x = x.to(device)\n",
    "fcnn.eval()\n",
    "\n",
    "with torch.no_grad():\n",
    "    \n",
    "    pred = fcnn(x)\n",
    "    #TO DO: print out the predicted and actual class\n",
    "    print(\"Predictions: \", classes[pred.argmax()])\n",
    "    print(\"Actual: \", classes[y])"
   ]
  },
  {
   "cell_type": "markdown",
   "metadata": {},
   "source": [
    "Here is an example of the CNN classifying an image with the wrong label:"
   ]
  },
  {
   "cell_type": "code",
   "execution_count": 51,
   "metadata": {},
   "outputs": [
    {
     "name": "stdout",
     "output_type": "stream",
     "text": [
      "['airplane', 'automobile', 'bird', 'cat', 'deer', 'dog', 'frog', 'horse', 'ship', 'truck']\n"
     ]
    },
    {
     "data": {
      "image/png": "[encoded data removed]",
      "text/plain": [
       "<Figure size 640x480 with 1 Axes>"
      ]
     },
     "metadata": {},
     "output_type": "display_data"
    },
    {
     "name": "stdout",
     "output_type": "stream",
     "text": [
      "Predictions:  frog\n",
      "Actual:  cat\n"
     ]
    }
   ],
   "source": [
    "from torch import permute\n",
    "import numpy\n",
    "\n",
    "\n",
    "classes = datasets.CIFAR10(root=\"data\", download=False).classes\n",
    "\n",
    "print(classes)\n",
    "\n",
    "x, y = test_data[0][0], test_data[0][1]\n",
    "\n",
    "x = x.permute(1, 2, 0).numpy()\n",
    "\n",
    "plt.imshow(x)\n",
    "plt.title(f\"Correct Label: {classes[test_data[0][1]]}\")\n",
    "plt.axis(\"off\")\n",
    "plt.show()\n",
    "\n",
    "x = torch.from_numpy(x)\n",
    "x = x.unsqueeze(0)\n",
    "x = x.permute(0, 3, 1, 2)\n",
    "x = x.to(device)\n",
    "cnn.eval()\n",
    "\n",
    "with torch.no_grad():\n",
    "    \n",
    "    pred = cnn(x)\n",
    "    #TO DO: print out the predicted and actual class\n",
    "    print(\"Predictions: \", classes[pred.argmax()])\n",
    "    print(\"Actual: \", classes[y])"
   ]
  },
  {
   "cell_type": "markdown",
   "metadata": {},
   "source": [
    "1. Which of your models worked better? Why do you think it worked better?\n",
    "The CNN definitely worked better than the FCNN. Although the accuracy is pretty bad for both... \n",
    "CNN typically works better for image analysis than FCNN because CNN uses its convolutional layers to better detect shapes. \n",
    "\n",
    "2. What advantages and shortcomings does accuracy have as an evaluation metric? Is there anything else you could do to more thoroughly evaluate your models?\n",
    "One advantage of accuracy is that it is pretty easy to calculate. You just count the number of correct labels and calculate the accuracy. Also, accuracy can for the most part gauge a model's competency. One shortcoming of accuracy is that it can be biased/misleading depending on the dataset used. For example, if a dataset had much more of one class, class A, than others, than the accuracy may be high because it can label the class A images correctly but will not do so for other classes."
   ]
  },
  {
   "cell_type": "markdown",
   "metadata": {},
   "source": []
  }
 ],
 "metadata": {
  "kernelspec": {
   "display_name": "Python 3",
   "language": "python",
   "name": "python3"
  },
  "language_info": {
   "codemirror_mode": {
    "name": "ipython",
    "version": 3
   },
   "file_extension": ".py",
   "mimetype": "text/x-python",
   "name": "python",
   "nbconvert_exporter": "python",
   "pygments_lexer": "ipython3",
   "version": "3.12.6"
  }
 },
 "nbformat": 4,
 "nbformat_minor": 2
}
